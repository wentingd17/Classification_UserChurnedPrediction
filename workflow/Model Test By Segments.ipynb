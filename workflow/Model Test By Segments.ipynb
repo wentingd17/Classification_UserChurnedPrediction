{
 "cells": [
  {
   "cell_type": "code",
   "execution_count": 1,
   "metadata": {},
   "outputs": [],
   "source": [
    "# munging imports\n",
    "import pandas as pd\n",
    "import numpy as np\n",
    "import sys\n",
    "import pickle\n",
    "\n",
    "# visualization imports\n",
    "import matplotlib.pyplot as plt\n",
    "import seaborn as sns\n",
    "\n",
    "%matplotlib inline"
   ]
  },
  {
   "cell_type": "code",
   "execution_count": 2,
   "metadata": {},
   "outputs": [],
   "source": [
    "# modeling imports\n",
    "from sklearn.linear_model import LogisticRegression\n",
    "from sklearn.model_selection import train_test_split\n",
    "from sklearn.metrics import precision_score, recall_score, accuracy_score, roc_auc_score,f1_score, roc_curve\n",
    "from sklearn.metrics import confusion_matrix\n",
    "from sklearn.preprocessing import StandardScaler\n",
    "from sklearn.model_selection import KFold\n",
    "from sklearn.metrics import make_scorer, fbeta_score"
   ]
  },
  {
   "cell_type": "code",
   "execution_count": 7,
   "metadata": {},
   "outputs": [
    {
     "name": "stdout",
     "output_type": "stream",
     "text": [
      "BankChurners.csv              Porject Proposal.md\r\n",
      "Churned_Prediction.ipynb      churned_data.pickle\r\n",
      "Model Test By Segments.ipynb\r\n"
     ]
    }
   ],
   "source": [
    "ls"
   ]
  },
  {
   "cell_type": "code",
   "execution_count": 49,
   "metadata": {},
   "outputs": [],
   "source": [
    "#import pickle data\n",
    "with open('churned_data.pickle', 'rb') as read_file:\n",
    "    df = pickle.load(read_file)"
   ]
  },
  {
   "cell_type": "code",
   "execution_count": 50,
   "metadata": {},
   "outputs": [
    {
     "name": "stdout",
     "output_type": "stream",
     "text": [
      "<class 'pandas.core.frame.DataFrame'>\n",
      "RangeIndex: 10127 entries, 0 to 10126\n",
      "Data columns (total 47 columns):\n",
      " #   Column                       Non-Null Count  Dtype  \n",
      "---  ------                       --------------  -----  \n",
      " 0   CLIENTNUM                    10127 non-null  int64  \n",
      " 1   Attrition_Flag               10127 non-null  object \n",
      " 2   Customer_Age                 10127 non-null  int64  \n",
      " 3   Gender                       10127 non-null  object \n",
      " 4   Dependent_count              10127 non-null  int64  \n",
      " 5   Education_Level              10127 non-null  object \n",
      " 6   Marital_Status               10127 non-null  object \n",
      " 7   Income_Category              10127 non-null  object \n",
      " 8   Card_Category                10127 non-null  object \n",
      " 9   Months_on_book               10127 non-null  int64  \n",
      " 10  Total_Relationship_Count     10127 non-null  int64  \n",
      " 11  Months_Inactive_12_mon       10127 non-null  int64  \n",
      " 12  Contacts_Count_12_mon        10127 non-null  int64  \n",
      " 13  Credit_Limit                 10127 non-null  float64\n",
      " 14  Total_Revolving_Bal          10127 non-null  int64  \n",
      " 15  Avg_Open_To_Buy              10127 non-null  float64\n",
      " 16  Total_Amt_Chng_Q4_Q1         10127 non-null  float64\n",
      " 17  Total_Trans_Amt              10127 non-null  int64  \n",
      " 18  Total_Trans_Ct               10127 non-null  int64  \n",
      " 19  Total_Ct_Chng_Q4_Q1          10127 non-null  float64\n",
      " 20  Avg_Utilization_Ratio        10127 non-null  float64\n",
      " 21  Attrited Customer            10127 non-null  uint8  \n",
      " 22  Female                       10127 non-null  uint8  \n",
      " 23  Male                         10127 non-null  uint8  \n",
      " 24  College                      10127 non-null  uint8  \n",
      " 25  Doctorate                    10127 non-null  uint8  \n",
      " 26  Graduate                     10127 non-null  uint8  \n",
      " 27  High School                  10127 non-null  uint8  \n",
      " 28  Post-Graduate                10127 non-null  uint8  \n",
      " 29  Uneducated                   10127 non-null  uint8  \n",
      " 30  Unknown_Edu                  10127 non-null  uint8  \n",
      " 31  Divorced                     10127 non-null  uint8  \n",
      " 32  Married                      10127 non-null  uint8  \n",
      " 33  Single                       10127 non-null  uint8  \n",
      " 34  Unknown_Marital              10127 non-null  uint8  \n",
      " 35  $120K +                      10127 non-null  uint8  \n",
      " 36  40K− 60K                     10127 non-null  uint8  \n",
      " 37  60K− 80K                     10127 non-null  uint8  \n",
      " 38  80K− 120K                    10127 non-null  uint8  \n",
      " 39  Less than $40K               10127 non-null  uint8  \n",
      " 40  Unknown_income               10127 non-null  uint8  \n",
      " 41  Blue                         10127 non-null  uint8  \n",
      " 42  Gold                         10127 non-null  uint8  \n",
      " 43  Platinum                     10127 non-null  uint8  \n",
      " 44  Silver                       10127 non-null  uint8  \n",
      " 45  months_Inactive_12_mon_flag  10127 non-null  int64  \n",
      " 46  contacts_Count_12_mon_flag   10127 non-null  int64  \n",
      "dtypes: float64(5), int64(12), object(6), uint8(24)\n",
      "memory usage: 2.0+ MB\n"
     ]
    }
   ],
   "source": [
    "df.info()"
   ]
  },
  {
   "cell_type": "code",
   "execution_count": 51,
   "metadata": {},
   "outputs": [],
   "source": [
    "features = ['Customer_Age','Female','Dependent_count', 'College', 'Doctorate', 'Graduate', 'High School', 'Post-Graduate', 'Uneducated', \n",
    "            'Divorced', 'Married', 'Single', '$120K +', '40K− 60K', '60K− 80K', '80K− 120K', 'Less than $40K',\n",
    "            'Blue', 'Gold','Platinum', 'Months_on_book', 'Total_Relationship_Count',\n",
    "            'Total_Revolving_Bal','Total_Amt_Chng_Q4_Q1','Total_Trans_Amt','Total_Trans_Ct',\n",
    "            'Total_Ct_Chng_Q4_Q1','Months_Inactive_12_mon', 'Contacts_Count_12_mon', 'Avg_Utilization_Ratio','Attrited Customer']"
   ]
  },
  {
   "cell_type": "code",
   "execution_count": 52,
   "metadata": {},
   "outputs": [],
   "source": [
    "df = df[features]"
   ]
  },
  {
   "cell_type": "code",
   "execution_count": 53,
   "metadata": {},
   "outputs": [],
   "source": [
    "df_m = df[df['Female'] == 1]\n",
    "df_f = df[df['Female'] == 0]"
   ]
  },
  {
   "cell_type": "code",
   "execution_count": 54,
   "metadata": {},
   "outputs": [],
   "source": [
    "X_m = df_m.drop(columns = ['Attrited Customer'])\n",
    "y_m = df_m['Attrited Customer']"
   ]
  },
  {
   "cell_type": "code",
   "execution_count": 55,
   "metadata": {},
   "outputs": [],
   "source": [
    "X_f = df_f.drop(columns = ['Attrited Customer'])\n",
    "y_f = df_f['Attrited Customer']"
   ]
  },
  {
   "cell_type": "code",
   "execution_count": 56,
   "metadata": {},
   "outputs": [],
   "source": [
    "with open('gbm_model.pickle', 'rb') as read_file:\n",
    "    gbm = pickle.load(read_file)"
   ]
  },
  {
   "cell_type": "code",
   "execution_count": 57,
   "metadata": {},
   "outputs": [],
   "source": [
    "#test on Male/Female group\n",
    "def gender_test(features, target, func = gbm):\n",
    "    acc, f2, auc, prec, rec = [],[],[],[],[]\n",
    "\n",
    "    proba = func.predict_proba(features, ntree_limit=gbm.best_ntree_limit)[:,1]\n",
    "    labels = proba >= 0.3\n",
    "\n",
    "    acc= accuracy_score(target, labels)\n",
    "    f2 = fbeta_score(target, labels, beta = 2)\n",
    "    auc = roc_auc_score(target, proba)\n",
    "    prec = precision_score(target, labels)\n",
    "    rec = recall_score(target, labels)\n",
    "    \n",
    "    return acc, f2, auc, prec, rec"
   ]
  },
  {
   "cell_type": "code",
   "execution_count": 58,
   "metadata": {},
   "outputs": [
    {
     "data": {
      "text/plain": [
       "(0.9781634938409854,\n",
       " 0.9461193072482363,\n",
       " 0.9967095997124845,\n",
       " 0.9247648902821317,\n",
       " 0.9516129032258065)"
      ]
     },
     "execution_count": 58,
     "metadata": {},
     "output_type": "execute_result"
    }
   ],
   "source": [
    "#Male group\n",
    "gender_test(X_m, y_m, func = gbm)"
   ]
  },
  {
   "cell_type": "code",
   "execution_count": 59,
   "metadata": {},
   "outputs": [
    {
     "data": {
      "text/plain": [
       "(0.9742084294401342,\n",
       " 0.9221778791334092,\n",
       " 0.9929292815405907,\n",
       " 0.8986111111111111,\n",
       " 0.9282639885222381)"
      ]
     },
     "execution_count": 59,
     "metadata": {},
     "output_type": "execute_result"
    }
   ],
   "source": [
    "#female group\n",
    "gender_test(X_f, y_f, func = gbm)"
   ]
  },
  {
   "cell_type": "markdown",
   "metadata": {},
   "source": [
    "#### model performance are similar in male and female group"
   ]
  },
  {
   "cell_type": "code",
   "execution_count": null,
   "metadata": {},
   "outputs": [],
   "source": []
  }
 ],
 "metadata": {
  "kernelspec": {
   "display_name": "Python 3",
   "language": "python",
   "name": "python3"
  },
  "language_info": {
   "codemirror_mode": {
    "name": "ipython",
    "version": 3
   },
   "file_extension": ".py",
   "mimetype": "text/x-python",
   "name": "python",
   "nbconvert_exporter": "python",
   "pygments_lexer": "ipython3",
   "version": "3.8.5"
  }
 },
 "nbformat": 4,
 "nbformat_minor": 4
}
